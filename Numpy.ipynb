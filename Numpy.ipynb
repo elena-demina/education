{
 "cells": [
  {
   "cell_type": "code",
   "execution_count": 1,
   "id": "33793ac5",
   "metadata": {},
   "outputs": [],
   "source": [
    "import numpy as np"
   ]
  },
  {
   "cell_type": "code",
   "execution_count": 2,
   "id": "bda670b6",
   "metadata": {},
   "outputs": [
    {
     "name": "stdout",
     "output_type": "stream",
     "text": [
      "[34 14 39 30 47 20 92 15 78 51  0 61 75 39 55 23 41 49 30 73 78 34 57 41\n",
      "  5 57 61 40 36 90 81 13  9 29 23 47 21 65 14 16 72 26 91 30 91 31 99 18\n",
      " 65 74 32 47 23 96  0 92 82 38 39 22 22 11  7 78 28 72 67 23  1 44 63 78\n",
      " 69 69 96 32 53  4  1 85 15 91 95 89 26 45 64 97 98 24 10 54 70 90  5  9\n",
      " 53 99  7 17]\n"
     ]
    }
   ],
   "source": [
    "array_1D = np.random.randint(0,100,100)\n",
    "print(array_1D)"
   ]
  },
  {
   "cell_type": "code",
   "execution_count": 3,
   "id": "56e14d48",
   "metadata": {},
   "outputs": [
    {
     "name": "stdout",
     "output_type": "stream",
     "text": [
      "Количество осей:  1\n",
      "Форма массива:  (100,)\n",
      "Количество значений:  100\n"
     ]
    }
   ],
   "source": [
    "print('Количество осей: ',array_1D.ndim)\n",
    "print('Форма массива: ',array_1D.shape)\n",
    "print('Количество значений: ',array_1D.size)"
   ]
  },
  {
   "cell_type": "code",
   "execution_count": 4,
   "id": "7a13e871",
   "metadata": {},
   "outputs": [
    {
     "name": "stdout",
     "output_type": "stream",
     "text": [
      "34\n"
     ]
    }
   ],
   "source": [
    "print(array_1D[0])"
   ]
  },
  {
   "cell_type": "code",
   "execution_count": 5,
   "id": "916de11b",
   "metadata": {},
   "outputs": [
    {
     "name": "stdout",
     "output_type": "stream",
     "text": [
      "13\n"
     ]
    }
   ],
   "source": [
    "print(array_1D[31])"
   ]
  },
  {
   "cell_type": "code",
   "execution_count": 8,
   "id": "e618e776",
   "metadata": {},
   "outputs": [
    {
     "name": "stdout",
     "output_type": "stream",
     "text": [
      "7\n"
     ]
    }
   ],
   "source": [
    "print(array_1D[-2])"
   ]
  },
  {
   "cell_type": "code",
   "execution_count": 16,
   "id": "07ec8cd4",
   "metadata": {},
   "outputs": [
    {
     "name": "stdout",
     "output_type": "stream",
     "text": [
      "[2. 1. 1. 2. 1. 1. 2. 1. 1. 2. 1. 1. 2. 1. 1.]\n"
     ]
    }
   ],
   "source": [
    "mas = np.ones(15)\n",
    "mas[::3] = 2\n",
    "print(mas)"
   ]
  },
  {
   "cell_type": "code",
   "execution_count": 21,
   "id": "0a4fec1e",
   "metadata": {},
   "outputs": [
    {
     "name": "stdout",
     "output_type": "stream",
     "text": [
      "[[0. 0. 0. 0. 0. 0. 0.]\n",
      " [0. 0. 0. 0. 0. 0. 0.]\n",
      " [0. 0. 0. 0. 0. 0. 0.]\n",
      " [0. 0. 0. 0. 0. 0. 0.]\n",
      " [0. 0. 0. 0. 0. 0. 0.]\n",
      " [0. 0. 0. 0. 0. 0. 0.]\n",
      " [0. 0. 0. 0. 0. 0. 0.]]\n",
      "[[0. 0. 0. 0. 0. 0. 0.]\n",
      " [0. 0. 0. 0. 0. 0. 0.]\n",
      " [0. 0. 0. 0. 0. 0. 0.]\n",
      " [1. 1. 1. 1. 1. 1. 1.]\n",
      " [0. 0. 0. 0. 0. 0. 0.]\n",
      " [0. 0. 0. 0. 0. 0. 0.]\n",
      " [0. 0. 0. 0. 0. 0. 0.]]\n"
     ]
    }
   ],
   "source": [
    "array = np.zeros ((7,7))\n",
    "print(array)\n",
    "array[3]=1\n"
   ]
  },
  {
   "cell_type": "code",
   "execution_count": null,
   "id": "785e9faf",
   "metadata": {},
   "outputs": [],
   "source": []
  }
 ],
 "metadata": {
  "kernelspec": {
   "display_name": "Python 3 (ipykernel)",
   "language": "python",
   "name": "python3"
  },
  "language_info": {
   "codemirror_mode": {
    "name": "ipython",
    "version": 3
   },
   "file_extension": ".py",
   "mimetype": "text/x-python",
   "name": "python",
   "nbconvert_exporter": "python",
   "pygments_lexer": "ipython3",
   "version": "3.9.13"
  }
 },
 "nbformat": 4,
 "nbformat_minor": 5
}
